{
 "cells": [
  {
   "cell_type": "code",
   "execution_count": 1,
   "id": "e50f8f38",
   "metadata": {
    "_cell_guid": "b1076dfc-b9ad-4769-8c92-a6c4dae69d19",
    "_uuid": "8f2839f25d086af736a60e9eeb907d3b93b6e0e5",
    "execution": {
     "iopub.execute_input": "2023-08-07T03:19:15.388963Z",
     "iopub.status.busy": "2023-08-07T03:19:15.388556Z",
     "iopub.status.idle": "2023-08-07T03:19:15.426038Z",
     "shell.execute_reply": "2023-08-07T03:19:15.425079Z"
    },
    "papermill": {
     "duration": 0.044592,
     "end_time": "2023-08-07T03:19:15.428135",
     "exception": false,
     "start_time": "2023-08-07T03:19:15.383543",
     "status": "completed"
    },
    "tags": []
   },
   "outputs": [
    {
     "name": "stdout",
     "output_type": "stream",
     "text": [
      "/kaggle/input/20-newsgroups/misc.forsale.txt\n",
      "/kaggle/input/20-newsgroups/rec.autos.txt\n",
      "/kaggle/input/20-newsgroups/list.csv\n",
      "/kaggle/input/20-newsgroups/comp.os.ms-windows.misc.txt\n",
      "/kaggle/input/20-newsgroups/sci.electronics.txt\n",
      "/kaggle/input/20-newsgroups/comp.sys.mac.hardware.txt\n",
      "/kaggle/input/20-newsgroups/talk.politics.mideast.txt\n",
      "/kaggle/input/20-newsgroups/talk.politics.guns.txt\n",
      "/kaggle/input/20-newsgroups/talk.religion.misc.txt\n",
      "/kaggle/input/20-newsgroups/comp.graphics.txt\n",
      "/kaggle/input/20-newsgroups/soc.religion.christian.txt\n",
      "/kaggle/input/20-newsgroups/rec.sport.hockey.txt\n",
      "/kaggle/input/20-newsgroups/rec.sport.baseball.txt\n",
      "/kaggle/input/20-newsgroups/comp.windows.x.txt\n",
      "/kaggle/input/20-newsgroups/comp.sys.ibm.pc.hardware.txt\n",
      "/kaggle/input/20-newsgroups/rec.motorcycles.txt\n",
      "/kaggle/input/20-newsgroups/sci.med.txt\n",
      "/kaggle/input/20-newsgroups/sci.space.txt\n",
      "/kaggle/input/20-newsgroups/alt.atheism.txt\n",
      "/kaggle/input/20-newsgroups/sci.crypt.txt\n",
      "/kaggle/input/20-newsgroups/talk.politics.misc.txt\n"
     ]
    }
   ],
   "source": [
    "# This Python 3 environment comes with many helpful analytics libraries installed\n",
    "# It is defined by the kaggle/python Docker image: https://github.com/kaggle/docker-python\n",
    "# For example, here's several helpful packages to load\n",
    "\n",
    "import numpy as np # linear algebra\n",
    "import pandas as pd # data processing, CSV file I/O (e.g. pd.read_csv)\n",
    "\n",
    "# Input data files are available in the read-only \"../input/\" directory\n",
    "# For example, running this (by clicking run or pressing Shift+Enter) will list all files under the input directory\n",
    "\n",
    "import os\n",
    "for dirname, _, filenames in os.walk('/kaggle/input'):\n",
    "    for filename in filenames:\n",
    "        print(os.path.join(dirname, filename))\n",
    "\n",
    "# You can write up to 20GB to the current directory (/kaggle/working/) that gets preserved as output when you create a version using \"Save & Run All\" \n",
    "# You can also write temporary files to /kaggle/temp/, but they won't be saved outside of the current session"
   ]
  },
  {
   "cell_type": "code",
   "execution_count": 2,
   "id": "29e28e31",
   "metadata": {
    "execution": {
     "iopub.execute_input": "2023-08-07T03:19:15.434924Z",
     "iopub.status.busy": "2023-08-07T03:19:15.434612Z",
     "iopub.status.idle": "2023-08-07T03:19:16.503147Z",
     "shell.execute_reply": "2023-08-07T03:19:16.501726Z"
    },
    "papermill": {
     "duration": 1.07463,
     "end_time": "2023-08-07T03:19:16.505581",
     "exception": false,
     "start_time": "2023-08-07T03:19:15.430951",
     "status": "completed"
    },
    "tags": []
   },
   "outputs": [
    {
     "name": "stderr",
     "output_type": "stream",
     "text": [
      "/opt/conda/lib/python3.10/site-packages/scipy/__init__.py:146: UserWarning: A NumPy version >=1.16.5 and <1.23.0 is required for this version of SciPy (detected version 1.23.5\n",
      "  warnings.warn(f\"A NumPy version >={np_minversion} and <{np_maxversion}\"\n"
     ]
    }
   ],
   "source": [
    "import glob\n",
    "from sklearn.model_selection import train_test_split"
   ]
  },
  {
   "cell_type": "code",
   "execution_count": 3,
   "id": "fa2ca8da",
   "metadata": {
    "execution": {
     "iopub.execute_input": "2023-08-07T03:19:16.513611Z",
     "iopub.status.busy": "2023-08-07T03:19:16.512978Z",
     "iopub.status.idle": "2023-08-07T03:19:18.470257Z",
     "shell.execute_reply": "2023-08-07T03:19:18.466155Z"
    },
    "papermill": {
     "duration": 1.963982,
     "end_time": "2023-08-07T03:19:18.473227",
     "exception": false,
     "start_time": "2023-08-07T03:19:16.509245",
     "status": "completed"
    },
    "tags": []
   },
   "outputs": [
    {
     "name": "stdout",
     "output_type": "stream",
     "text": [
      "Data shape: (1719280, 2)\n"
     ]
    }
   ],
   "source": [
    "data_list = []\n",
    "\n",
    "for filename in glob.glob('/kaggle/input/20-newsgroups/*.txt'):\n",
    "    category = os.path.basename(filename).split('.')[0]\n",
    "    \n",
    "    with open(filename, 'r', encoding='utf-8', errors='ignore') as file:\n",
    "        text = file.read().split('\\n')\n",
    "        \n",
    "        temp_df = pd.DataFrame({\n",
    "            'text': text,\n",
    "            'category': category\n",
    "        })\n",
    "        \n",
    "        data_list.append(temp_df)\n",
    "        \n",
    "data = pd.concat(data_list)\n",
    "\n",
    "print('Data shape:', data.shape)"
   ]
  },
  {
   "cell_type": "code",
   "execution_count": 4,
   "id": "7f742ef2",
   "metadata": {
    "execution": {
     "iopub.execute_input": "2023-08-07T03:19:18.480259Z",
     "iopub.status.busy": "2023-08-07T03:19:18.479884Z",
     "iopub.status.idle": "2023-08-07T03:19:18.987321Z",
     "shell.execute_reply": "2023-08-07T03:19:18.985486Z"
    },
    "papermill": {
     "duration": 0.513455,
     "end_time": "2023-08-07T03:19:18.989511",
     "exception": false,
     "start_time": "2023-08-07T03:19:18.476056",
     "status": "completed"
    },
    "tags": []
   },
   "outputs": [
    {
     "name": "stdout",
     "output_type": "stream",
     "text": [
      "comp    429734\n",
      "talk    380274\n",
      "sci     335476\n",
      "rec     289352\n",
      "alt     120488\n",
      "soc     101691\n",
      "misc     62265\n",
      "Name: category, dtype: int64\n",
      "Example document from category misc:\n",
      "Newsgroup: misc.forsale\n",
      "Example document from category rec:\n",
      "Newsgroup: rec.autos\n",
      "Example document from category comp:\n",
      "Newsgroup: comp.os.ms-windows.misc\n"
     ]
    }
   ],
   "source": [
    "#number of documents in each category\n",
    "print(data['category'].value_counts())\n",
    "\n",
    "#print examples of documents from a few different categories\n",
    "for category in data['category'].unique()[:3]:\n",
    "    print(f'Example document from category {category}:')\n",
    "    print(data[data['category'] == category].iloc[0]['text'])"
   ]
  },
  {
   "cell_type": "code",
   "execution_count": 5,
   "id": "739a72b7",
   "metadata": {
    "execution": {
     "iopub.execute_input": "2023-08-07T03:19:18.996308Z",
     "iopub.status.busy": "2023-08-07T03:19:18.995980Z",
     "iopub.status.idle": "2023-08-07T03:19:19.409216Z",
     "shell.execute_reply": "2023-08-07T03:19:19.407886Z"
    },
    "papermill": {
     "duration": 0.41911,
     "end_time": "2023-08-07T03:19:19.411526",
     "exception": false,
     "start_time": "2023-08-07T03:19:18.992416",
     "status": "completed"
    },
    "tags": []
   },
   "outputs": [],
   "source": [
    "data['text'] = data['text'].str.lower()"
   ]
  },
  {
   "cell_type": "code",
   "execution_count": 6,
   "id": "a8c864a2",
   "metadata": {
    "execution": {
     "iopub.execute_input": "2023-08-07T03:19:19.419079Z",
     "iopub.status.busy": "2023-08-07T03:19:19.418159Z",
     "iopub.status.idle": "2023-08-07T03:19:20.042828Z",
     "shell.execute_reply": "2023-08-07T03:19:20.041355Z"
    },
    "papermill": {
     "duration": 0.630569,
     "end_time": "2023-08-07T03:19:20.044958",
     "exception": false,
     "start_time": "2023-08-07T03:19:19.414389",
     "status": "completed"
    },
    "tags": []
   },
   "outputs": [
    {
     "name": "stdout",
     "output_type": "stream",
     "text": [
      "Train data shape: (1375424, 2)\n",
      "Train data shape: (343856, 2)\n"
     ]
    }
   ],
   "source": [
    "#splitting data into training and testing sets\n",
    "train_data, test_data = train_test_split(data, test_size=0.2, random_state=42)\n",
    "\n",
    "print('Train data shape:', train_data.shape)\n",
    "print('Train data shape:', test_data.shape)"
   ]
  },
  {
   "cell_type": "code",
   "execution_count": 7,
   "id": "84b21faa",
   "metadata": {
    "execution": {
     "iopub.execute_input": "2023-08-07T03:19:20.053874Z",
     "iopub.status.busy": "2023-08-07T03:19:20.052606Z",
     "iopub.status.idle": "2023-08-07T03:19:20.930233Z",
     "shell.execute_reply": "2023-08-07T03:19:20.928721Z"
    },
    "papermill": {
     "duration": 0.884609,
     "end_time": "2023-08-07T03:19:20.933042",
     "exception": false,
     "start_time": "2023-08-07T03:19:20.048433",
     "status": "completed"
    },
    "tags": []
   },
   "outputs": [
    {
     "name": "stdout",
     "output_type": "stream",
     "text": [
      "\n",
      "Category: misc\n",
      "\n",
      "---Sample Text ---\n",
      "wanted - 4 256k 60ns sips\n",
      "---End of Sample Text---\n",
      "\n",
      "---Sample Text ---\n",
      "to trade for a segacd or even partially (i.e. ill also pay some $).\n",
      "---End of Sample Text---\n",
      "\n",
      "---Sample Text ---\n",
      "rom spaceknight #8                              m\n",
      "---End of Sample Text---\n",
      "\n",
      "---Sample Text ---\n",
      "\n",
      "---End of Sample Text---\n",
      "\n",
      "---Sample Text ---\n",
      "         69 (whilce portacio art)                       $ 1.20\n",
      "---End of Sample Text---\n",
      "\n",
      "\n",
      "Category: rec\n",
      "\n",
      "---Sample Text ---\n",
      "the dod logo\t\t\tby chuck rogers\t\tdod #3\n",
      "---End of Sample Text---\n",
      "\n",
      "---Sample Text ---\n",
      "*   gary huckabay   * \"outside?!  that was right down the bleedin' pipe, *\n",
      "---End of Sample Text---\n",
      "\n",
      "---Sample Text ---\n",
      "penalty. he called marchment for elbowing janney along the boards at 14:58,\n",
      "---End of Sample Text---\n",
      "\n",
      "---Sample Text ---\n",
      "\n",
      "---End of Sample Text---\n",
      "\n",
      "---Sample Text ---\n",
      "in my case it goes down after the first four, because the fifth one usually\n",
      "---End of Sample Text---\n",
      "\n",
      "\n",
      "Category: comp\n",
      "\n",
      "---Sample Text ---\n",
      "subject: re: virtual reality for x on the cheap!\n",
      "---End of Sample Text---\n",
      "\n",
      "---Sample Text ---\n",
      "\n",
      "---End of Sample Text---\n",
      "\n",
      "---Sample Text ---\n",
      "an inexpensive online editing system with svhs quality.  supermac, the maker\n",
      "---End of Sample Text---\n",
      "\n",
      "---Sample Text ---\n",
      "\tkeyboarding\n",
      "---End of Sample Text---\n",
      "\n",
      "---Sample Text ---\n",
      "   an introduction to ray tracing, andrew glassner (ed.), academic press\n",
      "---End of Sample Text---\n",
      "\n",
      "\n",
      "Category: sci\n",
      "\n",
      "---Sample Text ---\n",
      " about 90% of patients tested show a bioflavonoid deficiency, \n",
      "---End of Sample Text---\n",
      "\n",
      "---Sample Text ---\n",
      "+\n",
      "---End of Sample Text---\n",
      "\n",
      "---Sample Text ---\n",
      "the tv station bought the movie already edited that way from the film company\n",
      "---End of Sample Text---\n",
      "\n",
      "---Sample Text ---\n",
      "\n",
      "---End of Sample Text---\n",
      "\n",
      "---Sample Text ---\n",
      "\torg\t100h\n",
      "---End of Sample Text---\n",
      "\n",
      "\n",
      "Category: talk\n",
      "\n",
      "---Sample Text ---\n",
      "     the people of the state of california do enact as follows:\n",
      "---End of Sample Text---\n",
      "\n",
      "---Sample Text ---\n",
      "\n",
      "---End of Sample Text---\n",
      "\n",
      "---Sample Text ---\n",
      ">>   despot would nod and say \"well done, bill clinton!!\"\n",
      "---End of Sample Text---\n",
      "\n",
      "---Sample Text ---\n",
      "\n",
      "---End of Sample Text---\n",
      "\n",
      "---Sample Text ---\n",
      "just to address this one point, what about the two katyusha rocket \n",
      "---End of Sample Text---\n",
      "\n",
      "\n",
      "Category: soc\n",
      "\n",
      "---Sample Text ---\n",
      "(surely it is not surprising that a personification of spring should\n",
      "---End of Sample Text---\n",
      "\n",
      "---Sample Text ---\n",
      "we all need god.  those who do not realize that they need god are \n",
      "---End of Sample Text---\n",
      "\n",
      "---Sample Text ---\n",
      "\n",
      "---End of Sample Text---\n",
      "\n",
      "---Sample Text ---\n",
      "i don't see the problem.  from the time of adam, those who looked forward to\n",
      "---End of Sample Text---\n",
      "\n",
      "---Sample Text ---\n",
      ">the idiocy of denying the universal saving will of god (1 timothy 2.4). \n",
      "---End of Sample Text---\n",
      "\n",
      "\n",
      "Category: alt\n",
      "\n",
      "---Sample Text ---\n",
      "to delve further into the structure of logical arguments would require\n",
      "---End of Sample Text---\n",
      "\n",
      "---Sample Text ---\n",
      "mar 16:5  and entering into the sepulchre, they saw a  young  man sitting  on \n",
      "---End of Sample Text---\n",
      "\n",
      "---Sample Text ---\n",
      "  pretend to have all the answers (and i don't), i would say that the\n",
      "---End of Sample Text---\n",
      "\n",
      "---Sample Text ---\n",
      "not only by christians.\n",
      "---End of Sample Text---\n",
      "\n",
      "---Sample Text ---\n",
      "[stuff deleted...]\n",
      "---End of Sample Text---\n",
      "\n"
     ]
    }
   ],
   "source": [
    "for category in data['category'].unique():\n",
    "    print(f'\\nCategory: {category}\\n')\n",
    "    sample_texts = data[data['category'] == category]['text'].sample(5)\n",
    "    for text in sample_texts:\n",
    "        print(f'---Sample Text ---\\n{text[:500]}\\n---End of Sample Text---\\n')"
   ]
  },
  {
   "cell_type": "code",
   "execution_count": null,
   "id": "68cc6dfa",
   "metadata": {
    "papermill": {
     "duration": 0.003182,
     "end_time": "2023-08-07T03:19:20.940118",
     "exception": false,
     "start_time": "2023-08-07T03:19:20.936936",
     "status": "completed"
    },
    "tags": []
   },
   "outputs": [],
   "source": []
  }
 ],
 "metadata": {
  "kernelspec": {
   "display_name": "Python 3",
   "language": "python",
   "name": "python3"
  },
  "language_info": {
   "codemirror_mode": {
    "name": "ipython",
    "version": 3
   },
   "file_extension": ".py",
   "mimetype": "text/x-python",
   "name": "python",
   "nbconvert_exporter": "python",
   "pygments_lexer": "ipython3",
   "version": "3.10.12"
  },
  "papermill": {
   "default_parameters": {},
   "duration": 14.512308,
   "end_time": "2023-08-07T03:19:21.866474",
   "environment_variables": {},
   "exception": null,
   "input_path": "__notebook__.ipynb",
   "output_path": "__notebook__.ipynb",
   "parameters": {},
   "start_time": "2023-08-07T03:19:07.354166",
   "version": "2.4.0"
  }
 },
 "nbformat": 4,
 "nbformat_minor": 5
}
